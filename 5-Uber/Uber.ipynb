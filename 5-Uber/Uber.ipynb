{
 "cells": [
  {
   "cell_type": "markdown",
   "metadata": {},
   "source": [
    "\n",
    "\n",
    "<p align=\"center\"><center>\n",
    "  <img width=\"800\" height=\"800\" src=\"https://generalposte.com/wp-content/uploads/2020/01/vtc.jpg\">\n",
    "    </center></p>\n",
    "    \n",
    "#  <span style=\"color:\"><center>**UBER**</center></span>\n",
    "\n",
    "La problématique rencontrée par l'équipe d'Uber découle du constat suivant : les chauffeurs ne sont pas présents dans les zones ou les utilisateurs ont un besoin. \n",
    "Par exemple, un utilisateur peut se trouver dans le quartier financier de San Francisco alors que les chauffeurs Uber recherchent des clients à Castro.\n",
    "\n",
    "Par conséquent, l'équipe de données d'Uber aimerait travailler sur un projet dans lequel son application recommanderait des zones chaudes dans les grandes villes à n'importe quel moment de la journée.\n",
    "\n",
    "Pour cela nous allons utiliser différentes méthodes de clustering afin de déterminer les zones chaudes."
   ]
  },
  {
   "cell_type": "code",
   "execution_count": 1,
   "metadata": {},
   "outputs": [],
   "source": [
    "!pip install plotly -q\n",
    "!pip install missingno -q\n",
    "import plotly.graph_objects as go\n",
    "import pandas as pd \n",
    "import numpy as np\n",
    "import missingno as msno\n",
    "from sklearn.preprocessing import StandardScaler\n",
    "from sklearn.metrics import silhouette_score\n",
    "import plotly.express as px\n",
    "from sklearn.cluster import KMeans\n",
    "import matplotlib.pyplot as plt\n",
    "import seaborn as sns"
   ]
  },
  {
   "cell_type": "code",
   "execution_count": 2,
   "metadata": {},
   "outputs": [],
   "source": [
    "uber_avril = pd.read_csv('uber-raw-data-apr14.csv')\n",
    "uber_mai = pd.read_csv('uber-raw-data-may14.csv')\n",
    "uber_juin = pd.read_csv('uber-raw-data-jun14.csv')\n",
    "uber_juillet = pd.read_csv ('uber-raw-data-jul14.csv')\n",
    "uber_aout = pd.read_csv ('uber-raw-data-aug14.csv')\n",
    "uber_septembre = pd.read_csv ('uber-raw-data-sep14.csv')\n",
    "uber_taxi_zone = pd.read_csv ('taxi-zone-lookup.csv')\n",
    "\n",
    "data = uber_avril.append([uber_mai,uber_juin,uber_juillet,uber_aout,uber_septembre], ignore_index=True)"
   ]
  },
  {
   "cell_type": "code",
   "execution_count": 3,
   "metadata": {},
   "outputs": [
    {
     "data": {
      "text/html": [
       "<div>\n",
       "<style scoped>\n",
       "    .dataframe tbody tr th:only-of-type {\n",
       "        vertical-align: middle;\n",
       "    }\n",
       "\n",
       "    .dataframe tbody tr th {\n",
       "        vertical-align: top;\n",
       "    }\n",
       "\n",
       "    .dataframe thead th {\n",
       "        text-align: right;\n",
       "    }\n",
       "</style>\n",
       "<table border=\"1\" class=\"dataframe\">\n",
       "  <thead>\n",
       "    <tr style=\"text-align: right;\">\n",
       "      <th></th>\n",
       "      <th>Date/Time</th>\n",
       "      <th>Lat</th>\n",
       "      <th>Lon</th>\n",
       "      <th>Base</th>\n",
       "    </tr>\n",
       "  </thead>\n",
       "  <tbody>\n",
       "    <tr>\n",
       "      <th>0</th>\n",
       "      <td>4/1/2014 0:11:00</td>\n",
       "      <td>40.7690</td>\n",
       "      <td>-73.9549</td>\n",
       "      <td>B02512</td>\n",
       "    </tr>\n",
       "    <tr>\n",
       "      <th>1</th>\n",
       "      <td>4/1/2014 0:17:00</td>\n",
       "      <td>40.7267</td>\n",
       "      <td>-74.0345</td>\n",
       "      <td>B02512</td>\n",
       "    </tr>\n",
       "    <tr>\n",
       "      <th>2</th>\n",
       "      <td>4/1/2014 0:21:00</td>\n",
       "      <td>40.7316</td>\n",
       "      <td>-73.9873</td>\n",
       "      <td>B02512</td>\n",
       "    </tr>\n",
       "    <tr>\n",
       "      <th>3</th>\n",
       "      <td>4/1/2014 0:28:00</td>\n",
       "      <td>40.7588</td>\n",
       "      <td>-73.9776</td>\n",
       "      <td>B02512</td>\n",
       "    </tr>\n",
       "    <tr>\n",
       "      <th>4</th>\n",
       "      <td>4/1/2014 0:33:00</td>\n",
       "      <td>40.7594</td>\n",
       "      <td>-73.9722</td>\n",
       "      <td>B02512</td>\n",
       "    </tr>\n",
       "    <tr>\n",
       "      <th>...</th>\n",
       "      <td>...</td>\n",
       "      <td>...</td>\n",
       "      <td>...</td>\n",
       "      <td>...</td>\n",
       "    </tr>\n",
       "    <tr>\n",
       "      <th>4534322</th>\n",
       "      <td>9/30/2014 22:57:00</td>\n",
       "      <td>40.7668</td>\n",
       "      <td>-73.9845</td>\n",
       "      <td>B02764</td>\n",
       "    </tr>\n",
       "    <tr>\n",
       "      <th>4534323</th>\n",
       "      <td>9/30/2014 22:57:00</td>\n",
       "      <td>40.6911</td>\n",
       "      <td>-74.1773</td>\n",
       "      <td>B02764</td>\n",
       "    </tr>\n",
       "    <tr>\n",
       "      <th>4534324</th>\n",
       "      <td>9/30/2014 22:58:00</td>\n",
       "      <td>40.8519</td>\n",
       "      <td>-73.9319</td>\n",
       "      <td>B02764</td>\n",
       "    </tr>\n",
       "    <tr>\n",
       "      <th>4534325</th>\n",
       "      <td>9/30/2014 22:58:00</td>\n",
       "      <td>40.7081</td>\n",
       "      <td>-74.0066</td>\n",
       "      <td>B02764</td>\n",
       "    </tr>\n",
       "    <tr>\n",
       "      <th>4534326</th>\n",
       "      <td>9/30/2014 22:58:00</td>\n",
       "      <td>40.7140</td>\n",
       "      <td>-73.9496</td>\n",
       "      <td>B02764</td>\n",
       "    </tr>\n",
       "  </tbody>\n",
       "</table>\n",
       "<p>4534327 rows × 4 columns</p>\n",
       "</div>"
      ],
      "text/plain": [
       "                  Date/Time      Lat      Lon    Base\n",
       "0          4/1/2014 0:11:00  40.7690 -73.9549  B02512\n",
       "1          4/1/2014 0:17:00  40.7267 -74.0345  B02512\n",
       "2          4/1/2014 0:21:00  40.7316 -73.9873  B02512\n",
       "3          4/1/2014 0:28:00  40.7588 -73.9776  B02512\n",
       "4          4/1/2014 0:33:00  40.7594 -73.9722  B02512\n",
       "...                     ...      ...      ...     ...\n",
       "4534322  9/30/2014 22:57:00  40.7668 -73.9845  B02764\n",
       "4534323  9/30/2014 22:57:00  40.6911 -74.1773  B02764\n",
       "4534324  9/30/2014 22:58:00  40.8519 -73.9319  B02764\n",
       "4534325  9/30/2014 22:58:00  40.7081 -74.0066  B02764\n",
       "4534326  9/30/2014 22:58:00  40.7140 -73.9496  B02764\n",
       "\n",
       "[4534327 rows x 4 columns]"
      ]
     },
     "execution_count": 3,
     "metadata": {},
     "output_type": "execute_result"
    },
    {
     "data": {
      "image/png": "[encoded data removed]",
      "text/plain": [
       "<Figure size 720x360 with 3 Axes>"
      ]
     },
     "metadata": {
      "needs_background": "light"
     },
     "output_type": "display_data"
    }
   ],
   "source": [
    "msno.bar(data,figsize=(10, 5),fontsize=15,color='pink');\n",
    "data"
   ]
  },
  {
   "cell_type": "markdown",
   "metadata": {},
   "source": [
    "On constate que nous avons un jeu de données propres, il n'a aucune donnée manquante."
   ]
  },
  {
   "cell_type": "code",
   "execution_count": 4,
   "metadata": {},
   "outputs": [],
   "source": [
    "data['Date/Time'] = pd.to_datetime(data['Date/Time'])\n",
    "data['semaine'] =pd.to_datetime(data['Date/Time']).dt.isocalendar().week\n",
    "data['jours'] =pd.to_datetime(data['Date/Time']).dt.isocalendar().day\n",
    "data['jour_semaine']=pd.to_datetime(data['Date/Time']).dt.weekday\n",
    "#data['année'] = pd.to_datetime(data['Date/Time']).dt.isocalendar().year\n",
    "data['mois'] = pd.to_datetime(data['Date/Time']).dt.month\n",
    "#data['true_date'] = pd.to_datetime(data['Date/Time'])\n",
    "#data['true_date'].sort_values()\n",
    "data[['heure','minutes']] = pd.DataFrame([(x.hour, x.minute) for x in data['Date/Time']])"
   ]
  },
  {
   "cell_type": "markdown",
   "metadata": {},
   "source": [
    "# KMeans\n",
    "\n",
    "Nos données sont réparties dans la zone géographique de New York, il y a donc une distance euclidienne.\n",
    "\n",
    "Nous sommes donc capables d'utiliser la méthode K-Means qui est une technique qui sépare les observations par clusters où chaque observation est considérée comme appartenant à un groupe où la moyenne est la plus proche selon une distance donnée.\n",
    "\n",
    "Pour savoir le nombre de clusters nous allons utiliser la méthode du coude, et de la silhouette."
   ]
  },
  {
   "cell_type": "code",
   "execution_count": 5,
   "metadata": {},
   "outputs": [
    {
     "name": "stdout",
     "output_type": "stream",
     "text": [
      "WCSS for K=1 --> 45.90883720111868\n",
      "WCSS for K=2 --> 25.872258870096207\n",
      "WCSS for K=3 --> 19.654725260472205\n",
      "WCSS for K=4 --> 15.054864625593648\n",
      "WCSS for K=5 --> 11.050317382432427\n",
      "WCSS for K=6 --> 9.087253436717976\n",
      "WCSS for K=7 --> 7.703222605969345\n",
      "WCSS for K=8 --> 6.76521482473733\n",
      "WCSS for K=9 --> 5.801949032078732\n",
      "WCSS for K=10 --> 5.287521481013788\n"
     ]
    },
    {
     "data": {
      "text/html": [
       "<iframe\n",
       "    scrolling=\"no\"\n",
       "    width=\"100%\"\n",
       "    height=\"545px\"\n",
       "    src=\"iframe_figures/figure_5.html\"\n",
       "    frameborder=\"0\"\n",
       "    allowfullscreen\n",
       "></iframe>\n"
      ]
     },
     "metadata": {},
     "output_type": "display_data"
    },
    {
     "name": "stdout",
     "output_type": "stream",
     "text": [
      "Silhouette score for K=2 is 0.7428745175360846\n",
      "Silhouette score for K=3 is 0.39431646837625794\n",
      "Silhouette score for K=4 is 0.4145506156352023\n",
      "Silhouette score for K=5 is 0.44138551010344607\n",
      "Silhouette score for K=6 is 0.4716994286602172\n",
      "Silhouette score for K=7 is 0.4762299659886086\n",
      "Silhouette score for K=8 is 0.47908028455288004\n",
      "Silhouette score for K=9 is 0.4635199611635023\n",
      "Silhouette score for K=10 is 0.4747688506463981\n"
     ]
    },
    {
     "data": {
      "text/html": [
       "<iframe\n",
       "    scrolling=\"no\"\n",
       "    width=\"100%\"\n",
       "    height=\"545px\"\n",
       "    src=\"iframe_figures/figure_5.html\"\n",
       "    frameborder=\"0\"\n",
       "    allowfullscreen\n",
       "></iframe>\n"
      ]
     },
     "metadata": {},
     "output_type": "display_data"
    }
   ],
   "source": [
    "#mask = (data['mois'] == 6) & (data['heure'] >=16)\n",
    "#features_list = [\"Lat\",\"Lon\"]\n",
    "#X = data.loc[mask,features_list].sample(n=1000)\n",
    "masq = ((data['mois'] == 6) & (data['semaine'] == 23) & (data['heure'] >=16))\n",
    "features_list = [\"Lat\",\"Lon\"]\n",
    "X = data.loc[masq,features_list].sample(n=10000)\n",
    "#sc = StandardScaler()# Standard scaler transform X as numpy array.\n",
    "#X = sc.fit_transform(X)\n",
    "\n",
    "wcss =  []\n",
    "k = []\n",
    "for i in range (1,11): \n",
    "    kmeans = KMeans(n_clusters= i, init = \"k-means++\", random_state = 0)\n",
    "    kmeans.fit(X)\n",
    "    wcss.append(kmeans.inertia_)\n",
    "    k.append(i)\n",
    "    #print(\"WCSS for K={} --> {}\".format(i, wcss[-1]))\n",
    "\n",
    "# Create DataFrame, Create figure\n",
    "wcss_frame = pd.DataFrame(wcss)\n",
    "k_frame = pd.Series(k)\n",
    "fig= px.line(\n",
    "    wcss_frame,\n",
    "    x=k_frame,\n",
    "    y=wcss_frame.iloc[:,-1]\n",
    ")\n",
    "fig.update_layout(\n",
    "    yaxis_title=\"Inertia\",\n",
    "    xaxis_title=\"# Clusters\",\n",
    "    title=\"Inertia par cluster\"\n",
    ")\n",
    "fig.show(renderer=\"iframe\") \n",
    "\n",
    "#Attention, il faut commencer à i=2 car le score silhouette \n",
    "#ne peut accepter moins de 2 labels\n",
    "sil = []\n",
    "k = []\n",
    "for i in range (2,11):\n",
    "    kmeans = KMeans(n_clusters= i, init = \"k-means++\", random_state = 0)\n",
    "    kmeans.fit(X)\n",
    "    sil.append(silhouette_score(X, kmeans.predict(X)))\n",
    "    k.append(i)\n",
    "    #print(\"Silhouette score for K={} is {}\".format(i, sil[-1]))\n",
    "    \n",
    "\n",
    "#Create a data frame,Create figure\n",
    "cluster_scores=pd.DataFrame(sil)\n",
    "k_frame = pd.Series(k)\n",
    "fig = px.bar(data_frame=cluster_scores,  \n",
    "             x=k, \n",
    "             y=cluster_scores.iloc[:, -1]\n",
    "            )\n",
    "fig.update_layout(\n",
    "    yaxis_title=\"Silhouette Score\",\n",
    "    xaxis_title=\"# Clusters\",\n",
    "    title=\"Silhouette Score par cluster\"\n",
    ")\n",
    "fig.show(renderer=\"iframe\") # if using workspace\n",
    "\n",
    "\n",
    "\n",
    "#Appliquons maintenant K-Means sur notre jeu de données .\n",
    "kmeans = KMeans(n_clusters=5, random_state=0, init=\"k-means++\")\n",
    "\n",
    "# Fit kmeans to our dataset\n",
    "kmeans.fit(X)\n",
    "\n",
    "clusters = kmeans.predict(X)\n",
    "centroïde = kmeans.cluster_centers_\n",
    "\n",
    "X['clusters']= kmeans.labels_\n",
    "X['jours'] = data['jours']\n",
    "X['heure'] = data['heure']\n"
   ]
  },
  {
   "cell_type": "markdown",
   "metadata": {},
   "source": [
    "Bien que les deux méthodes essaient de déterminer dans quelle mesure nos données sont bien divisées, elles proposent deux approches opposées.\n",
    "\n",
    "La méthode du coude essaie de voir si chaque point de données d'un cluster sont proches les uns des autres .\n",
    "La Silhouette essaie de déterminer à quelle distance se trouve chaque groupe (et donc à quel point ils sont significatifs).\n",
    "\n",
    "Grâce à c'est deux méthodes nous sommes maintenant en mesure de définir le nombre de clusters qui est de 5."
   ]
  },
  {
   "cell_type": "code",
   "execution_count": 6,
   "metadata": {},
   "outputs": [
    {
     "data": {
      "text/html": [
       "<iframe\n",
       "    scrolling=\"no\"\n",
       "    width=\"100%\"\n",
       "    height=\"545px\"\n",
       "    src=\"iframe_figures/figure_6.html\"\n",
       "    frameborder=\"0\"\n",
       "    allowfullscreen\n",
       "></iframe>\n"
      ]
     },
     "metadata": {},
     "output_type": "display_data"
    }
   ],
   "source": [
    "fig = px.scatter_mapbox(X.sort_values(by =['jours']),\n",
    "                        lat=\"Lat\",\n",
    "                        lon=\"Lon\",\n",
    "                        animation_frame = 'jours',\n",
    "                        animation_group = 'heure',                \n",
    "                        color=\"clusters\",\n",
    "                        mapbox_style = \"carto-positron\",\n",
    "                        zoom=9,\n",
    "                        title = '')\n",
    "fig.show(renderer=\"iframe\")"
   ]
  },
  {
   "cell_type": "code",
   "execution_count": 7,
   "metadata": {},
   "outputs": [
    {
     "data": {
      "text/html": [
       "<iframe\n",
       "    scrolling=\"no\"\n",
       "    width=\"100%\"\n",
       "    height=\"545px\"\n",
       "    src=\"iframe_figures/figure_7.html\"\n",
       "    frameborder=\"0\"\n",
       "    allowfullscreen\n",
       "></iframe>\n"
      ]
     },
     "metadata": {},
     "output_type": "display_data"
    }
   ],
   "source": [
    "fig = px.scatter_mapbox(X.sort_values(by =['heure']),\n",
    "                        lat=\"Lat\",\n",
    "                        lon=\"Lon\",\n",
    "                        animation_frame = 'heure',\n",
    "                        animation_group = 'heure',                \n",
    "                        color=\"clusters\",\n",
    "                        mapbox_style = \"carto-positron\",\n",
    "                        zoom=9,\n",
    "                        title = '')\n",
    "fig.show(renderer=\"iframe\")"
   ]
  },
  {
   "cell_type": "markdown",
   "metadata": {},
   "source": [
    "Maintenant nous pouvons visualiser les données de notre modèle K-means on peut voir qu'il a divisé un ensemble de données en différents « paquets » homogènes en fonction de K.\n",
    "\n",
    "5 clusters ont été définis avec un nombre de point très dense dans le nord et le sud de MANHATTAN ( cluster 0 et 2 ) à n'importe quel jours/heure de la semaine entraînant une demande constante de chauffeurs.\n",
    "En revanche, les aéroports ont des variations en fonction de l'heure et du jour entraînant une forte demande  le lundi, samedi et dimanche entre 16h et 18h. \n",
    "On constate cependant que certains clusters ne nécessitent pas une présence accrue des chauffeurs car la demande semble moins importante (cluster 3).\n",
    "\n",
    "Il est donc préférable de planifier une grosse flottes de véhicules sur les points stratégiques ( cluster 0 ; 2; 4 )comme le centre de New York ou la demande est constante mais également sur les aéroports en fonction des pîques d'affluence.\n",
    "\n",
    "En conclusion, on peut différencier deux variables permettant d'ajuster la flotte Uber de façon efficiente.\n",
    "- une demande constante (cluster 0;2;4)\n",
    "- une saisonnalité liée au pîque d'affluence (cluster 1;3)\n"
   ]
  },
  {
   "cell_type": "markdown",
   "metadata": {},
   "source": [
    "# DBSCAN\n",
    "\n",
    "L’algorithme DBSCAN utilise 2 paramètres : la distance epsilon (une distance physique de chaque point) et le nombre minimum de points “min_sample” (taille de cluster minimale) devant se trouver dans un rayon epsilon pour que ces points soient considérés comme un cluster.\n",
    "\n",
    "Nous utiliserons la métric \"manhattan\" qui est plus à même de répondre à nos besoins qui place 2 points sur le sommet diagonal d'un carré et prend la distance égale à la moitié du périmètre.\n",
    "Contrairement à la métric \"euclidienne\" qui coupe en diagonale un bâtiment à un autre elle nous donnerait une estimation réaliste.\n",
    "\n",
    "Cette méthode est parfaite pour les données spatiales latitude-longitude.\n"
   ]
  },
  {
   "cell_type": "code",
   "execution_count": 8,
   "metadata": {},
   "outputs": [
    {
     "name": "stdout",
     "output_type": "stream",
     "text": [
      "Nombres de clusters:27\n",
      "Nombres de bruits:65212\n"
     ]
    },
    {
     "name": "stderr",
     "output_type": "stream",
     "text": [
      "<ipython-input-8-e144935fbb4e>:25: UserWarning:\n",
      "\n",
      "Boolean Series key will be reindexed to match DataFrame index.\n",
      "\n"
     ]
    },
    {
     "data": {
      "text/html": [
       "<iframe\n",
       "    scrolling=\"no\"\n",
       "    width=\"100%\"\n",
       "    height=\"545px\"\n",
       "    src=\"iframe_figures/figure_8.html\"\n",
       "    frameborder=\"0\"\n",
       "    allowfullscreen\n",
       "></iframe>\n"
      ]
     },
     "metadata": {},
     "output_type": "display_data"
    }
   ],
   "source": [
    "# import DBSCAN from sklearn and numpy\n",
    "from sklearn.cluster import DBSCAN\n",
    "import numpy as np\n",
    "mask = ((data['mois'] == 6) & (data['semaine'] == 23) & (data['heure'] >=16))\n",
    "features = [\"Lat\",\"Lon\"]\n",
    "x = data.loc[mask,features]#.sample(n=10000)\n",
    "# Instanciate DBSCAN \n",
    "db = DBSCAN(eps=0.0008, min_samples=150, metric=\"manhattan\", algorithm=\"brute\")\n",
    "\n",
    "# Fit on data \n",
    "## No need to normalize data, it already is! \n",
    "db.fit(x)\n",
    "x[\"cluster\"] = db.labels_\n",
    "x['jours'] = data['jours']\n",
    "x['heure'] = data['heure']\n",
    "\n",
    "labels = db.labels_\n",
    "unique_lab = set(x[\"cluster\"])\n",
    "nombre_cluster = len(unique_lab)\n",
    "n_noise_ = list(labels).count(-1)\n",
    "\n",
    "\n",
    "print(f'Nombres de clusters:{nombre_cluster}')\n",
    "print((f'Nombres de bruits:{n_noise_}'))\n",
    "fig = px.scatter_mapbox(x.sort_values(by =['jours'])[x.cluster != -1],\n",
    "                        lat=\"Lat\",\n",
    "                        lon=\"Lon\",\n",
    "                        animation_frame = 'jours',\n",
    "                        animation_group = 'jours',                \n",
    "                        color=\"cluster\",\n",
    "                        mapbox_style = \"carto-darkmatter\",\n",
    "                        zoom=9.5,\n",
    "                        title = '')\n",
    "fig.show(renderer=\"iframe\")"
   ]
  },
  {
   "cell_type": "code",
   "execution_count": 9,
   "metadata": {},
   "outputs": [
    {
     "name": "stderr",
     "output_type": "stream",
     "text": [
      "<ipython-input-9-8167dd2d85e7>:1: UserWarning:\n",
      "\n",
      "Boolean Series key will be reindexed to match DataFrame index.\n",
      "\n"
     ]
    },
    {
     "data": {
      "text/html": [
       "<iframe\n",
       "    scrolling=\"no\"\n",
       "    width=\"100%\"\n",
       "    height=\"545px\"\n",
       "    src=\"iframe_figures/figure_9.html\"\n",
       "    frameborder=\"0\"\n",
       "    allowfullscreen\n",
       "></iframe>\n"
      ]
     },
     "metadata": {},
     "output_type": "display_data"
    }
   ],
   "source": [
    "fig = px.scatter_mapbox(x.sort_values(by =['heure'])[x.cluster != -1],\n",
    "                        lat=\"Lat\",\n",
    "                        lon=\"Lon\",\n",
    "                        animation_frame = 'heure',\n",
    "                        animation_group = 'heure',                \n",
    "                        color=\"cluster\",\n",
    "                        mapbox_style = \"carto-darkmatter\",\n",
    "                        zoom=9.5,\n",
    "                        title = '')\n",
    "fig.show(renderer=\"iframe\")"
   ]
  },
  {
   "cell_type": "markdown",
   "metadata": {},
   "source": [
    "Pour DBSCAN, nous ne pouvons pas définir le nombre de clusters attendu en paramètre\n",
    "car l'algorithme essaie de trouver lui-même le nombre de clusters.\n",
    "\n",
    "il crée des clusters de plus forte densitée et catégorise les points non clusterisé comme du bruit qui sont représentés comme des outliers.\n",
    "\n",
    "l'algorythme a permis d'affiner nos résultats du modèle K-MEANS en conservant les données les plus fiables pour orienter le choix de répartition des chauffeurs sur les différents lieux stratégiques tels que les aéroports et le centre de Manhattan.\n",
    "\n",
    "# Conclusion\n",
    "\n",
    "le model K-Means a permit d'identifier 5 clusters en mettant en évidence les différentes zones chaudes,\n",
    "comme le sud et le nord de Manhattan qui représentent des clusters denses ou encore Newark, Steinway, Brookklyn qui correspondent à d'autres clusters ou les points sont moins concentrés.\n",
    "Du lundi au vendredi, les demandes se font plus importantes à Manhattan tandis qu'en fin de semaine elles changent et se déplacent plus au nord de Harlem, Brooklyn avec un creux à 20H et 22h pour les aéroports.\n",
    "\n",
    "DBSCAN a mis en évidence nos données de façon concentrées et nous a permis de déterminer l'emplacement exact ou devrait se placer les chauffeurs Uber afin de répondre au mieux aux attentes des clients et limiter au maximum le temps d'attente comme les aéroports, Le Grand Army Plaza , Meatpacking District, le Theater District, Midtown et Midtown EST.\n",
    "\n",
    "Pour finir, le model DBSCAN permettra à Uber de placer ses véhicules de façon stratégique en complémentarité avec le model K-means, qui lui indiquera les zones chaudes à couvrir par les chauffeurs pour satisfaire au maximum la demande."
   ]
  },
  {
   "cell_type": "code",
   "execution_count": null,
   "metadata": {},
   "outputs": [],
   "source": []
  }
 ],
 "metadata": {
  "kernelspec": {
   "display_name": "Python 3",
   "language": "python",
   "name": "python3"
  },
  "language_info": {
   "codemirror_mode": {
    "name": "ipython",
    "version": 3
   },
   "file_extension": ".py",
   "mimetype": "text/x-python",
   "name": "python",
   "nbconvert_exporter": "python",
   "pygments_lexer": "ipython3",
   "version": "3.8.6"
  }
 },
 "nbformat": 4,
 "nbformat_minor": 4
}
